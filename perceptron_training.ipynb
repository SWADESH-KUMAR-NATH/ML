{
  "nbformat": 4,
  "nbformat_minor": 0,
  "metadata": {
    "colab": {
      "name": "perceptron_training.ipynb",
      "provenance": [],
      "collapsed_sections": [],
      "authorship_tag": "ABX9TyM/wFi33T6quYnUuvLb78yI",
      "include_colab_link": true
    },
    "kernelspec": {
      "name": "python3",
      "display_name": "Python 3"
    },
    "language_info": {
      "name": "python"
    }
  },
  "cells": [
    {
      "cell_type": "markdown",
      "metadata": {
        "id": "view-in-github",
        "colab_type": "text"
      },
      "source": [
        "<a href=\"https://colab.research.google.com/github/SWADESH-KUMAR-NATH/ML/blob/main/perceptron_training.ipynb\" target=\"_parent\"><img src=\"https://colab.research.google.com/assets/colab-badge.svg\" alt=\"Open In Colab\"/></a>"
      ]
    },
    {
      "cell_type": "code",
      "metadata": {
        "colab": {
          "base_uri": "https://localhost:8080/"
        },
        "id": "8FflOWU0a8f3",
        "outputId": "e0b1365d-a193-4d8b-af7a-dfb3620c0876"
      },
      "source": [
        "from google.colab import drive\n",
        "drive.mount('/content/drive')"
      ],
      "execution_count": null,
      "outputs": [
        {
          "output_type": "stream",
          "text": [
            "Mounted at /content/drive\n"
          ],
          "name": "stdout"
        }
      ]
    },
    {
      "cell_type": "markdown",
      "metadata": {
        "id": "iPGKClMngURZ"
      },
      "source": [
        "\n",
        "```\n",
        "xTrain = [1,2,3,4,5...]\n",
        "yTrain = [10,20,30,40,50...]\n",
        "```\n"
      ]
    },
    {
      "cell_type": "code",
      "metadata": {
        "id": "eEfR_yTpb1RI",
        "colab": {
          "base_uri": "https://localhost:8080/"
        },
        "outputId": "c4fcd70d-7f4f-4563-d1dc-5de1346d51af"
      },
      "source": [
        "xTrain=[i for i in range(21)]\n",
        "print(xTrain)"
      ],
      "execution_count": null,
      "outputs": [
        {
          "output_type": "stream",
          "text": [
            "[0, 1, 2, 3, 4, 5, 6, 7, 8, 9, 10, 11, 12, 13, 14, 15, 16, 17, 18, 19, 20]\n"
          ],
          "name": "stdout"
        }
      ]
    },
    {
      "cell_type": "code",
      "metadata": {
        "id": "4ph97b4_e3UE",
        "colab": {
          "base_uri": "https://localhost:8080/"
        },
        "outputId": "79549fa3-e0cf-432a-9132-c2636547b41e"
      },
      "source": [
        "yTrain=[i*10 for i in range(21)]\n",
        "print(yTrain)"
      ],
      "execution_count": null,
      "outputs": [
        {
          "output_type": "stream",
          "text": [
            "[0, 10, 20, 30, 40, 50, 60, 70, 80, 90, 100, 110, 120, 130, 140, 150, 160, 170, 180, 190, 200]\n"
          ],
          "name": "stdout"
        }
      ]
    },
    {
      "cell_type": "code",
      "metadata": {
        "id": "2K6iYt8WgM_5"
      },
      "source": [
        "def tempfunc(x):\n",
        "  y=10*x\n",
        "  return y\n",
        "for value in xTrain:\n",
        "  print(tempfunc(value))"
      ],
      "execution_count": null,
      "outputs": []
    },
    {
      "cell_type": "code",
      "metadata": {
        "id": "BebU1hUphePR",
        "colab": {
          "base_uri": "https://localhost:8080/"
        },
        "outputId": "6c1e3951-41ac-4a4d-f06e-ced30f63da65"
      },
      "source": [
        "xTrain1=xTrain[:-5]\n",
        "yTrain1=yTrain[:-5]\n",
        "print(xTrain1)\n",
        "print(yTrain1)"
      ],
      "execution_count": null,
      "outputs": [
        {
          "output_type": "stream",
          "text": [
            "[0, 1, 2, 3, 4, 5, 6, 7, 8, 9, 10, 11, 12, 13, 14, 15]\n",
            "[0, 10, 20, 30, 40, 50, 60, 70, 80, 90, 100, 110, 120, 130, 140, 150]\n"
          ],
          "name": "stdout"
        }
      ]
    },
    {
      "cell_type": "code",
      "metadata": {
        "id": "2Ex8WQA2jjNr",
        "colab": {
          "base_uri": "https://localhost:8080/"
        },
        "outputId": "3c347c1f-fa27-4214-cfe4-0b2e023a6ed3"
      },
      "source": [
        "xtest=xTrain[-5:]\n",
        "ytest=yTrain[-5:]\n",
        "print(f\"\\nxTrain={xTrain1}\\nyTrain={yTrain1}\\n\\nxTest={xtest}\\nyTest={ytest}\")"
      ],
      "execution_count": null,
      "outputs": [
        {
          "output_type": "stream",
          "text": [
            "\n",
            "xTrain=[0, 1, 2, 3, 4, 5, 6, 7, 8, 9, 10, 11, 12, 13, 14, 15]\n",
            "yTrain=[0, 10, 20, 30, 40, 50, 60, 70, 80, 90, 100, 110, 120, 130, 140, 150]\n",
            "\n",
            "xTest=[16, 17, 18, 19, 20]\n",
            "yTest=[160, 170, 180, 190, 200]\n"
          ],
          "name": "stdout"
        }
      ]
    },
    {
      "cell_type": "code",
      "metadata": {
        "id": "0EK0E-Jkk7xf"
      },
      "source": [
        "import tensorflow as tf\n",
        "from tensorflow import keras\n",
        "\n",
        "# perceptron model\n",
        "\n",
        "model=tf.keras.Sequential([\n",
        "                           tf.keras.layers.Dense(units=1, input_shape=[1])\n",
        "])"
      ],
      "execution_count": null,
      "outputs": []
    },
    {
      "cell_type": "code",
      "metadata": {
        "id": "hUus8dWWm6Gt"
      },
      "source": [
        "model.compile(optimizer='adam',loss='mae')"
      ],
      "execution_count": null,
      "outputs": []
    },
    {
      "cell_type": "markdown",
      "metadata": {
        "id": "uWY2HQj7pDMb"
      },
      "source": [
        "\n",
        "```\n",
        "h(xTrain)=[]\n",
        "yTrain=[]\n",
        "length of yTrain:\n",
        "n=len(yTrain)\n",
        "MAE=h(xTrain)-yTrain\n",
        "```\n",
        "\n"
      ]
    },
    {
      "cell_type": "code",
      "metadata": {
        "id": "n1FVQbWXnGbT",
        "colab": {
          "base_uri": "https://localhost:8080/"
        },
        "outputId": "b5624360-cf51-4cb5-db3c-b3ba8d74dfba"
      },
      "source": [
        "model.fit(x=xTrain,y=yTrain,validation_data=(xtest,ytest), epochs=50)"
      ],
      "execution_count": null,
      "outputs": [
        {
          "output_type": "stream",
          "text": [
            "Epoch 1/50\n",
            "1/1 [==============================] - 1s 670ms/step - loss: 94.2814 - val_loss: 169.6875\n",
            "Epoch 2/50\n",
            "1/1 [==============================] - 0s 37ms/step - loss: 94.2705 - val_loss: 169.6685\n",
            "Epoch 3/50\n",
            "1/1 [==============================] - 0s 33ms/step - loss: 94.2596 - val_loss: 169.6495\n",
            "Epoch 4/50\n",
            "1/1 [==============================] - 0s 34ms/step - loss: 94.2487 - val_loss: 169.6305\n",
            "Epoch 5/50\n",
            "1/1 [==============================] - 0s 33ms/step - loss: 94.2378 - val_loss: 169.6115\n",
            "Epoch 6/50\n",
            "1/1 [==============================] - 0s 39ms/step - loss: 94.2269 - val_loss: 169.5925\n",
            "Epoch 7/50\n",
            "1/1 [==============================] - 0s 35ms/step - loss: 94.2160 - val_loss: 169.5735\n",
            "Epoch 8/50\n",
            "1/1 [==============================] - 0s 38ms/step - loss: 94.2050 - val_loss: 169.5545\n",
            "Epoch 9/50\n",
            "1/1 [==============================] - 0s 34ms/step - loss: 94.1942 - val_loss: 169.5355\n",
            "Epoch 10/50\n",
            "1/1 [==============================] - 0s 40ms/step - loss: 94.1833 - val_loss: 169.5165\n",
            "Epoch 11/50\n",
            "1/1 [==============================] - 0s 40ms/step - loss: 94.1723 - val_loss: 169.4975\n",
            "Epoch 12/50\n",
            "1/1 [==============================] - 0s 34ms/step - loss: 94.1614 - val_loss: 169.4785\n",
            "Epoch 13/50\n",
            "1/1 [==============================] - 0s 35ms/step - loss: 94.1505 - val_loss: 169.4595\n",
            "Epoch 14/50\n",
            "1/1 [==============================] - 0s 39ms/step - loss: 94.1396 - val_loss: 169.4405\n",
            "Epoch 15/50\n",
            "1/1 [==============================] - 0s 35ms/step - loss: 94.1287 - val_loss: 169.4215\n",
            "Epoch 16/50\n",
            "1/1 [==============================] - 0s 33ms/step - loss: 94.1178 - val_loss: 169.4025\n",
            "Epoch 17/50\n",
            "1/1 [==============================] - 0s 36ms/step - loss: 94.1069 - val_loss: 169.3835\n",
            "Epoch 18/50\n",
            "1/1 [==============================] - 0s 39ms/step - loss: 94.0960 - val_loss: 169.3645\n",
            "Epoch 19/50\n",
            "1/1 [==============================] - 0s 35ms/step - loss: 94.0851 - val_loss: 169.3455\n",
            "Epoch 20/50\n",
            "1/1 [==============================] - 0s 35ms/step - loss: 94.0742 - val_loss: 169.3265\n",
            "Epoch 21/50\n",
            "1/1 [==============================] - 0s 39ms/step - loss: 94.0633 - val_loss: 169.3075\n",
            "Epoch 22/50\n",
            "1/1 [==============================] - 0s 34ms/step - loss: 94.0524 - val_loss: 169.2885\n",
            "Epoch 23/50\n",
            "1/1 [==============================] - 0s 34ms/step - loss: 94.0415 - val_loss: 169.2695\n",
            "Epoch 24/50\n",
            "1/1 [==============================] - 0s 34ms/step - loss: 94.0306 - val_loss: 169.2505\n",
            "Epoch 25/50\n",
            "1/1 [==============================] - 0s 33ms/step - loss: 94.0197 - val_loss: 169.2315\n",
            "Epoch 26/50\n",
            "1/1 [==============================] - 0s 33ms/step - loss: 94.0088 - val_loss: 169.2125\n",
            "Epoch 27/50\n",
            "1/1 [==============================] - 0s 33ms/step - loss: 93.9979 - val_loss: 169.1935\n",
            "Epoch 28/50\n",
            "1/1 [==============================] - 0s 34ms/step - loss: 93.9870 - val_loss: 169.1745\n",
            "Epoch 29/50\n",
            "1/1 [==============================] - 0s 40ms/step - loss: 93.9761 - val_loss: 169.1555\n",
            "Epoch 30/50\n",
            "1/1 [==============================] - 0s 33ms/step - loss: 93.9652 - val_loss: 169.1365\n",
            "Epoch 31/50\n",
            "1/1 [==============================] - 0s 34ms/step - loss: 93.9543 - val_loss: 169.1175\n",
            "Epoch 32/50\n",
            "1/1 [==============================] - 0s 35ms/step - loss: 93.9434 - val_loss: 169.0985\n",
            "Epoch 33/50\n",
            "1/1 [==============================] - 0s 34ms/step - loss: 93.9325 - val_loss: 169.0795\n",
            "Epoch 34/50\n",
            "1/1 [==============================] - 0s 33ms/step - loss: 93.9216 - val_loss: 169.0605\n",
            "Epoch 35/50\n",
            "1/1 [==============================] - 0s 33ms/step - loss: 93.9107 - val_loss: 169.0415\n",
            "Epoch 36/50\n",
            "1/1 [==============================] - 0s 36ms/step - loss: 93.8998 - val_loss: 169.0225\n",
            "Epoch 37/50\n",
            "1/1 [==============================] - 0s 35ms/step - loss: 93.8889 - val_loss: 169.0036\n",
            "Epoch 38/50\n",
            "1/1 [==============================] - 0s 37ms/step - loss: 93.8780 - val_loss: 168.9845\n",
            "Epoch 39/50\n",
            "1/1 [==============================] - 0s 35ms/step - loss: 93.8671 - val_loss: 168.9655\n",
            "Epoch 40/50\n",
            "1/1 [==============================] - 0s 37ms/step - loss: 93.8562 - val_loss: 168.9465\n",
            "Epoch 41/50\n",
            "1/1 [==============================] - 0s 47ms/step - loss: 93.8453 - val_loss: 168.9276\n",
            "Epoch 42/50\n",
            "1/1 [==============================] - 0s 34ms/step - loss: 93.8343 - val_loss: 168.9086\n",
            "Epoch 43/50\n",
            "1/1 [==============================] - 0s 35ms/step - loss: 93.8234 - val_loss: 168.8896\n",
            "Epoch 44/50\n",
            "1/1 [==============================] - 0s 36ms/step - loss: 93.8125 - val_loss: 168.8706\n",
            "Epoch 45/50\n",
            "1/1 [==============================] - 0s 42ms/step - loss: 93.8016 - val_loss: 168.8516\n",
            "Epoch 46/50\n",
            "1/1 [==============================] - 0s 34ms/step - loss: 93.7907 - val_loss: 168.8326\n",
            "Epoch 47/50\n",
            "1/1 [==============================] - 0s 35ms/step - loss: 93.7798 - val_loss: 168.8136\n",
            "Epoch 48/50\n",
            "1/1 [==============================] - 0s 34ms/step - loss: 93.7689 - val_loss: 168.7946\n",
            "Epoch 49/50\n",
            "1/1 [==============================] - 0s 37ms/step - loss: 93.7580 - val_loss: 168.7756\n",
            "Epoch 50/50\n",
            "1/1 [==============================] - 0s 34ms/step - loss: 93.7471 - val_loss: 168.7566\n"
          ],
          "name": "stdout"
        },
        {
          "output_type": "execute_result",
          "data": {
            "text/plain": [
              "<tensorflow.python.keras.callbacks.History at 0x7f8aacd3a050>"
            ]
          },
          "metadata": {
            "tags": []
          },
          "execution_count": 14
        }
      ]
    },
    {
      "cell_type": "markdown",
      "metadata": {
        "id": "hoZVaoAgqT7w"
      },
      "source": [
        "\n",
        "\n",
        "```\n",
        "\n",
        "```\n",
        "\n"
      ]
    },
    {
      "cell_type": "code",
      "metadata": {
        "id": "a3SX6llwr6Cc"
      },
      "source": [
        "model.fit(x=xTrain,y=yTrain,validation_data=(xtest,ytest), epochs=500000)"
      ],
      "execution_count": null,
      "outputs": []
    }
  ]
}