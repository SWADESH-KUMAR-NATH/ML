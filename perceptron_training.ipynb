{
  "nbformat": 4,
  "nbformat_minor": 0,
  "metadata": {
    "colab": {
      "name": "perceptron_training.ipynb",
      "provenance": [],
      "collapsed_sections": [],
      "authorship_tag": "ABX9TyOl1ri9WRZWVJVeOcZXn7tm",
      "include_colab_link": true
    },
    "kernelspec": {
      "name": "python3",
      "display_name": "Python 3"
    },
    "language_info": {
      "name": "python"
    }
  },
  "cells": [
    {
      "cell_type": "markdown",
      "metadata": {
        "id": "view-in-github",
        "colab_type": "text"
      },
      "source": [
        "<a href=\"https://colab.research.google.com/github/SWADESH-KUMAR-NATH/ML/blob/main/perceptron_training.ipynb\" target=\"_parent\"><img src=\"https://colab.research.google.com/assets/colab-badge.svg\" alt=\"Open In Colab\"/></a>"
      ]
    },
    {
      "cell_type": "code",
      "metadata": {
        "colab": {
          "base_uri": "https://localhost:8080/"
        },
        "id": "8FflOWU0a8f3",
        "outputId": "e0b1365d-a193-4d8b-af7a-dfb3620c0876"
      },
      "source": [
        "from google.colab import drive\n",
        "drive.mount('/content/drive')"
      ],
      "execution_count": 2,
      "outputs": [
        {
          "output_type": "stream",
          "text": [
            "Mounted at /content/drive\n"
          ],
          "name": "stdout"
        }
      ]
    },
    {
      "cell_type": "markdown",
      "metadata": {
        "id": "iPGKClMngURZ"
      },
      "source": [
        "\n",
        "```\n",
        "xTrain = [1,2,3,4,5...]\n",
        "yTrain = [10,20,30,40,50...]\n",
        "```\n"
      ]
    },
    {
      "cell_type": "code",
      "metadata": {
        "id": "eEfR_yTpb1RI"
      },
      "source": [
        "xTrain=[i for i in range(21)]\n",
        "print(xTrain)"
      ],
      "execution_count": null,
      "outputs": []
    },
    {
      "cell_type": "code",
      "metadata": {
        "id": "4ph97b4_e3UE"
      },
      "source": [
        "yTrain=[i*10 for i in range(21)]\n",
        "print(yTrain)"
      ],
      "execution_count": null,
      "outputs": []
    },
    {
      "cell_type": "code",
      "metadata": {
        "id": "2K6iYt8WgM_5"
      },
      "source": [
        "def tempfunc(x):\n",
        "  y=10*x\n",
        "  return y\n",
        "for value in xTrain:\n",
        "  print(tempfunc(value))"
      ],
      "execution_count": null,
      "outputs": []
    },
    {
      "cell_type": "code",
      "metadata": {
        "id": "BebU1hUphePR"
      },
      "source": [
        "xTrain1=xTrain[:-5]\n",
        "yTrain1=yTrain[:-5]\n",
        "print(xTrain1)\n",
        "print(yTrain1)"
      ],
      "execution_count": null,
      "outputs": []
    },
    {
      "cell_type": "code",
      "metadata": {
        "id": "2Ex8WQA2jjNr"
      },
      "source": [
        "xtest=xTrain[-5:]\n",
        "ytest=yTrain[-5:]\n",
        "print(f\"\\nxTrain={xTrain1}\\nyTrain={yTrain1}\\n\\nxTest={xtest}\\nyTest={ytest}\")"
      ],
      "execution_count": null,
      "outputs": []
    },
    {
      "cell_type": "code",
      "metadata": {
        "id": "0EK0E-Jkk7xf"
      },
      "source": [
        "import tensorflow as tf\n",
        "from tensorflow import keras\n",
        "\n",
        "# perceptron model\n",
        "\n",
        "model=tf.keras.Sequential([\n",
        "                           tf.keras.layers.Dense(units=1, input_shape=[1])\n",
        "])"
      ],
      "execution_count": 17,
      "outputs": []
    },
    {
      "cell_type": "code",
      "metadata": {
        "id": "hUus8dWWm6Gt"
      },
      "source": [
        "model.compile(optimizer='adam',loss='mae')"
      ],
      "execution_count": 18,
      "outputs": []
    },
    {
      "cell_type": "markdown",
      "metadata": {
        "id": "uWY2HQj7pDMb"
      },
      "source": [
        "\n",
        "```\n",
        "h(xTrain)=[]\n",
        "yTrain=[]\n",
        "length of yTrain:\n",
        "n=len(yTrain)\n",
        "MAE=h(xTrain)-yTrain\n",
        "```\n",
        "\n"
      ]
    },
    {
      "cell_type": "code",
      "metadata": {
        "id": "n1FVQbWXnGbT"
      },
      "source": [
        "model.fit(x=xTrain,y=yTrain,validation_data=(xtest,ytest), epochs=5000)"
      ],
      "execution_count": null,
      "outputs": []
    },
    {
      "cell_type": "markdown",
      "metadata": {
        "id": "hoZVaoAgqT7w"
      },
      "source": [
        "\n",
        "\n",
        "```\n",
        "\n",
        "```\n",
        "\n"
      ]
    },
    {
      "cell_type": "code",
      "metadata": {
        "id": "a3SX6llwr6Cc"
      },
      "source": [
        "model.fit(x=xTrain,y=yTrain,validation_data=(xtest,ytest), epochs=500000)"
      ],
      "execution_count": null,
      "outputs": []
    }
  ]
}